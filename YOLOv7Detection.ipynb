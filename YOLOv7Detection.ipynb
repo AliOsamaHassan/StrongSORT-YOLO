{
 "cells": [
  {
   "cell_type": "code",
   "execution_count": 1,
   "metadata": {
    "colab": {
     "base_uri": "https://localhost:8080/"
    },
    "id": "msS1ksMCbcOZ",
    "outputId": "9b8a802d-ea16-4dd5-ad57-ccc859e8c605"
   },
   "outputs": [
    {
     "name": "stdout",
     "output_type": "stream",
     "text": [
      "Python version: 3.9.12 (main, Jun  1 2022, 11:38:51) \n",
      "[GCC 7.5.0], sys.version_info(major=3, minor=9, micro=12, releaselevel='final', serial=0) \n",
      "Pytorch version: 1.10.0+cu113 \n"
     ]
    }
   ],
   "source": [
    "import sys\n",
    "import torch\n",
    "print(f\"Python version: {sys.version}, {sys.version_info} \")\n",
    "print(f\"Pytorch version: {torch.__version__} \")"
   ]
  },
  {
   "cell_type": "code",
   "execution_count": 4,
   "metadata": {
    "colab": {
     "base_uri": "https://localhost:8080/"
    },
    "id": "yCnuiIXjbcLq",
    "outputId": "2a898836-fa58-426e-f778-64a8e476e0ca"
   },
   "outputs": [
    {
     "name": "stdout",
     "output_type": "stream",
     "text": [
      "/bin/bash: /home/ali/miniconda3/envs/tf/lib/libtinfo.so.6: no version information available (required by /bin/bash)\n",
      "Tue Nov 22 17:14:16 2022       \n",
      "+-----------------------------------------------------------------------------+\n",
      "| NVIDIA-SMI 470.141.03   Driver Version: 470.141.03   CUDA Version: 11.4     |\n",
      "|-------------------------------+----------------------+----------------------+\n",
      "| GPU  Name        Persistence-M| Bus-Id        Disp.A | Volatile Uncorr. ECC |\n",
      "| Fan  Temp  Perf  Pwr:Usage/Cap|         Memory-Usage | GPU-Util  Compute M. |\n",
      "|                               |                      |               MIG M. |\n",
      "|===============================+======================+======================|\n",
      "|   0  NVIDIA GeForce ...  Off  | 00000000:01:00.0 Off |                  N/A |\n",
      "| N/A   54C    P5     7W /  N/A |    381MiB /  3910MiB |      1%      Default |\n",
      "|                               |                      |                  N/A |\n",
      "+-------------------------------+----------------------+----------------------+\n",
      "                                                                               \n",
      "+-----------------------------------------------------------------------------+\n",
      "| Processes:                                                                  |\n",
      "|  GPU   GI   CI        PID   Type   Process name                  GPU Memory |\n",
      "|        ID   ID                                                   Usage      |\n",
      "|=============================================================================|\n",
      "|    0   N/A  N/A      1594      G   /usr/lib/xorg/Xorg                  4MiB |\n",
      "|    0   N/A  N/A      2395      G   /usr/lib/xorg/Xorg                 84MiB |\n",
      "|    0   N/A  N/A     33398    C+G   ...941713682867656715,131072      288MiB |\n",
      "+-----------------------------------------------------------------------------+\n"
     ]
    }
   ],
   "source": [
    "!nvidia-smi"
   ]
  },
  {
   "cell_type": "markdown",
   "metadata": {
    "id": "HewfMK3EVKuI"
   },
   "source": [
    "### YOLOv7 Detection"
   ]
  },
  {
   "cell_type": "code",
   "execution_count": 5,
   "metadata": {
    "id": "utxvpmuibcI7"
   },
   "outputs": [],
   "source": [
    "# !# Download YOLOv7 code\n",
    "# !git clone https://github.com/WongKinYiu/yolov7\n",
    "# %cd yolov7\n",
    "# !git pull origin main\n",
    "# %cd ../\n",
    "# !ls"
   ]
  },
  {
   "cell_type": "code",
   "execution_count": 4,
   "metadata": {
    "id": "KhApWfeKbcFG"
   },
   "outputs": [],
   "source": [
    "# Download trained weights\n",
    "# !wget -O weights/yolov7.pt https://github.com/WongKinYiu/yolov7/releases/download/v0.1/yolov7.pt "
   ]
  },
  {
   "cell_type": "markdown",
   "metadata": {
    "id": "h5dEzipVVC6c"
   },
   "source": [
    "#### Run inference on Image"
   ]
  },
  {
   "cell_type": "code",
   "execution_count": null,
   "metadata": {
    "id": "xI5DiyI2bcAK"
   },
   "outputs": [],
   "source": [
    "# Detection\n",
    "!python3 yolov7/detect.py --weights weights/yolov7.pt --conf 0.25 --img-size 640 --source yolov7/inference/images/bus.jpg --blur-classes 0"
   ]
  },
  {
   "cell_type": "code",
   "execution_count": null,
   "metadata": {
    "id": "bp7rVA0nbn-O"
   },
   "outputs": [],
   "source": [
    "# define helper functions to show images\n",
    "def imShow(path):\n",
    "    import cv2\n",
    "    import matplotlib.pyplot as plt\n",
    "    %matplotlib inline\n",
    "\n",
    "    image = cv2.imread(path)\n",
    "    height, width = image.shape[:2]\n",
    "    resized_image = cv2.resize(image,(3*width, 3*height), interpolation = cv2.INTER_CUBIC)\n",
    "\n",
    "    fig = plt.gcf()\n",
    "    fig.set_size_inches(18, 10)\n",
    "    plt.axis(\"off\")\n",
    "    plt.imshow(cv2.cvtColor(resized_image, cv2.COLOR_BGR2RGB))\n",
    "    plt.show()"
   ]
  },
  {
   "cell_type": "code",
   "execution_count": null,
   "metadata": {
    "id": "aId1iLXtb7KA"
   },
   "outputs": [],
   "source": [
    "imShow(\"runs/detect/exp/bus.jpg\")"
   ]
  },
  {
   "cell_type": "markdown",
   "metadata": {
    "id": "7OTfmWcqVHIP"
   },
   "source": [
    "#### Run inference on video"
   ]
  },
  {
   "cell_type": "code",
   "execution_count": null,
   "metadata": {
    "id": "mWKIgB7ShFah",
    "scrolled": true,
    "tags": []
   },
   "outputs": [],
   "source": [
    "!python3 yolov7/detect.py --weights weights/yolov7.pt --conf 0.25 --img-size 640 --save-txt --save-conf --source  \"VID_20220922133805.mp4\" --blur-classes 0"
   ]
  },
  {
   "cell_type": "markdown",
   "metadata": {
    "id": "aOurR_uVVQHW"
   },
   "source": [
    "### YOLOv7 with StrongSORT Inference"
   ]
  },
  {
   "cell_type": "code",
   "execution_count": null,
   "metadata": {
    "colab": {
     "base_uri": "https://localhost:8080/"
    },
    "id": "2gcWYIUZhtiZ",
    "outputId": "786d3810-cfe3-4957-98a4-eadb20becc31"
   },
   "outputs": [],
   "source": [
    "# !git clone --recurse-submodules https://github.com/bharath5673/StrongSORT-YOLO.git\n",
    "# !git pull origin "
   ]
  },
  {
   "cell_type": "code",
   "execution_count": null,
   "metadata": {
    "colab": {
     "base_uri": "https://localhost:8080/"
    },
    "id": "H3cIlImWVf7Y",
    "outputId": "4effd257-013e-4b23-d674-79eaf7eeae7c"
   },
   "outputs": [],
   "source": [
    "# !pip3 install -r requirements.txt"
   ]
  },
  {
   "cell_type": "code",
   "execution_count": null,
   "metadata": {
    "id": "ZCDD2pUPVmyO",
    "scrolled": true,
    "tags": []
   },
   "outputs": [],
   "source": [
    "# !python3 track_v7.py --yolo-weights weights/yolov5n.pt --strong-sort-weights weights/osnet_x0_25_msmt17.pt --source \"../visual_distortion/الرياض 1/DJI_0005.MP4\" --classes 0 1 2 3 4 --count --show-vid --save-vid --save-txt --save-conf\n",
    "\n",
    "!python3 track_v7.py --source \"../SmartDrones/Drone Videos/DJI Georeferencing/DJI_0753-001.MP4\" --yolo-weights weights/yolov7.pt --strong-sort-weights weights/osnet_x0_25_msmt17.pt --save-txt --count --save-conf --save-vid --blur-classes 0"
   ]
  },
  {
   "cell_type": "code",
   "execution_count": null,
   "metadata": {},
   "outputs": [],
   "source": []
  }
 ],
 "metadata": {
  "accelerator": "GPU",
  "colab": {
   "collapsed_sections": [],
   "provenance": []
  },
  "gpuClass": "standard",
  "kernelspec": {
   "display_name": "tf",
   "language": "python",
   "name": "tf"
  },
  "language_info": {
   "codemirror_mode": {
    "name": "ipython",
    "version": 3
   },
   "file_extension": ".py",
   "mimetype": "text/x-python",
   "name": "python",
   "nbconvert_exporter": "python",
   "pygments_lexer": "ipython3",
   "version": "3.9.12"
  }
 },
 "nbformat": 4,
 "nbformat_minor": 4
}
